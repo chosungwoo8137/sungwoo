{
 "cells": [
  {
   "cell_type": "code",
   "execution_count": 1,
   "metadata": {},
   "outputs": [],
   "source": [
    "import pandas as pd\n",
    "import numpy as np\n",
    "import matplotlib.pyplot as plt"
   ]
  },
  {
   "cell_type": "code",
   "execution_count": 19,
   "metadata": {},
   "outputs": [
    {
     "data": {
      "text/html": [
       "<div>\n",
       "<style scoped>\n",
       "    .dataframe tbody tr th:only-of-type {\n",
       "        vertical-align: middle;\n",
       "    }\n",
       "\n",
       "    .dataframe tbody tr th {\n",
       "        vertical-align: top;\n",
       "    }\n",
       "\n",
       "    .dataframe thead th {\n",
       "        text-align: right;\n",
       "    }\n",
       "</style>\n",
       "<table border=\"1\" class=\"dataframe\">\n",
       "  <thead>\n",
       "    <tr style=\"text-align: right;\">\n",
       "      <th></th>\n",
       "      <th>접종일</th>\n",
       "      <th>접종대상자</th>\n",
       "      <th>당일 1차접종자 수</th>\n",
       "      <th>1차접종 누계</th>\n",
       "      <th>1차접종률(%)</th>\n",
       "      <th>당일 2차접종자 수</th>\n",
       "      <th>2차접종 누계</th>\n",
       "      <th>2차접종률(%)</th>\n",
       "    </tr>\n",
       "  </thead>\n",
       "  <tbody>\n",
       "    <tr>\n",
       "      <th>0</th>\n",
       "      <td>2021.07.27</td>\n",
       "      <td>4150036</td>\n",
       "      <td>74786</td>\n",
       "      <td>3372307</td>\n",
       "      <td>81.2</td>\n",
       "      <td>9381</td>\n",
       "      <td>1293099</td>\n",
       "      <td>31.1</td>\n",
       "    </tr>\n",
       "    <tr>\n",
       "      <th>1</th>\n",
       "      <td>2021.07.26</td>\n",
       "      <td>4058839</td>\n",
       "      <td>125490</td>\n",
       "      <td>3297521</td>\n",
       "      <td>81.2</td>\n",
       "      <td>14681</td>\n",
       "      <td>1283718</td>\n",
       "      <td>31.6</td>\n",
       "    </tr>\n",
       "    <tr>\n",
       "      <th>2</th>\n",
       "      <td>2021.07.25</td>\n",
       "      <td>4065645</td>\n",
       "      <td>85</td>\n",
       "      <td>3168908</td>\n",
       "      <td>77.9</td>\n",
       "      <td>19</td>\n",
       "      <td>1268914</td>\n",
       "      <td>31.2</td>\n",
       "    </tr>\n",
       "    <tr>\n",
       "      <th>3</th>\n",
       "      <td>2021.07.24</td>\n",
       "      <td>4065545</td>\n",
       "      <td>6610</td>\n",
       "      <td>3168820</td>\n",
       "      <td>77.9</td>\n",
       "      <td>2639</td>\n",
       "      <td>1268896</td>\n",
       "      <td>31.2</td>\n",
       "    </tr>\n",
       "    <tr>\n",
       "      <th>4</th>\n",
       "      <td>2021.07.23</td>\n",
       "      <td>4065798</td>\n",
       "      <td>27951</td>\n",
       "      <td>3162205</td>\n",
       "      <td>77.8</td>\n",
       "      <td>10128</td>\n",
       "      <td>1266249</td>\n",
       "      <td>31.1</td>\n",
       "    </tr>\n",
       "  </tbody>\n",
       "</table>\n",
       "</div>"
      ],
      "text/plain": [
       "          접종일    접종대상자  당일 1차접종자 수  1차접종 누계  1차접종률(%)  당일 2차접종자 수  2차접종 누계  \\\n",
       "0  2021.07.27  4150036       74786  3372307      81.2        9381  1293099   \n",
       "1  2021.07.26  4058839      125490  3297521      81.2       14681  1283718   \n",
       "2  2021.07.25  4065645          85  3168908      77.9          19  1268914   \n",
       "3  2021.07.24  4065545        6610  3168820      77.9        2639  1268896   \n",
       "4  2021.07.23  4065798       27951  3162205      77.8       10128  1266249   \n",
       "\n",
       "   2차접종률(%)  \n",
       "0      31.1  \n",
       "1      31.6  \n",
       "2      31.2  \n",
       "3      31.2  \n",
       "4      31.1  "
      ]
     },
     "execution_count": 19,
     "metadata": {},
     "output_type": "execute_result"
    }
   ],
   "source": [
    "data = pd.read_csv('./vaccine.csv',encoding='cp949')\n",
    "data.head()"
   ]
  },
  {
   "cell_type": "code",
   "execution_count": 23,
   "metadata": {},
   "outputs": [],
   "source": [
    "first = data.drop(['접종일','접종대상자','당일 1차접종자 수','1차접종 누계','당일 2차접종자 수',\n",
    "                  '2차접종 누계','2차접종률(%)'],axis=1)"
   ]
  },
  {
   "cell_type": "code",
   "execution_count": 25,
   "metadata": {},
   "outputs": [
    {
     "data": {
      "text/html": [
       "<div>\n",
       "<style scoped>\n",
       "    .dataframe tbody tr th:only-of-type {\n",
       "        vertical-align: middle;\n",
       "    }\n",
       "\n",
       "    .dataframe tbody tr th {\n",
       "        vertical-align: top;\n",
       "    }\n",
       "\n",
       "    .dataframe thead th {\n",
       "        text-align: right;\n",
       "    }\n",
       "</style>\n",
       "<table border=\"1\" class=\"dataframe\">\n",
       "  <thead>\n",
       "    <tr style=\"text-align: right;\">\n",
       "      <th></th>\n",
       "      <th>접종일</th>\n",
       "      <th>접종대상자</th>\n",
       "    </tr>\n",
       "  </thead>\n",
       "  <tbody>\n",
       "    <tr>\n",
       "      <th>0</th>\n",
       "      <td>2021.07.27</td>\n",
       "      <td>4150036</td>\n",
       "    </tr>\n",
       "    <tr>\n",
       "      <th>1</th>\n",
       "      <td>2021.07.26</td>\n",
       "      <td>4058839</td>\n",
       "    </tr>\n",
       "    <tr>\n",
       "      <th>2</th>\n",
       "      <td>2021.07.25</td>\n",
       "      <td>4065645</td>\n",
       "    </tr>\n",
       "    <tr>\n",
       "      <th>3</th>\n",
       "      <td>2021.07.24</td>\n",
       "      <td>4065545</td>\n",
       "    </tr>\n",
       "    <tr>\n",
       "      <th>4</th>\n",
       "      <td>2021.07.23</td>\n",
       "      <td>4065798</td>\n",
       "    </tr>\n",
       "    <tr>\n",
       "      <th>...</th>\n",
       "      <td>...</td>\n",
       "      <td>...</td>\n",
       "    </tr>\n",
       "    <tr>\n",
       "      <th>93</th>\n",
       "      <td>2021.04.25</td>\n",
       "      <td>1023346</td>\n",
       "    </tr>\n",
       "    <tr>\n",
       "      <th>94</th>\n",
       "      <td>2021.04.24</td>\n",
       "      <td>1023346</td>\n",
       "    </tr>\n",
       "    <tr>\n",
       "      <th>95</th>\n",
       "      <td>2021.04.23</td>\n",
       "      <td>1027740</td>\n",
       "    </tr>\n",
       "    <tr>\n",
       "      <th>96</th>\n",
       "      <td>2021.04.22</td>\n",
       "      <td>1023538</td>\n",
       "    </tr>\n",
       "    <tr>\n",
       "      <th>97</th>\n",
       "      <td>2021.04.21</td>\n",
       "      <td>1019322</td>\n",
       "    </tr>\n",
       "  </tbody>\n",
       "</table>\n",
       "<p>98 rows × 2 columns</p>\n",
       "</div>"
      ],
      "text/plain": [
       "           접종일    접종대상자\n",
       "0   2021.07.27  4150036\n",
       "1   2021.07.26  4058839\n",
       "2   2021.07.25  4065645\n",
       "3   2021.07.24  4065545\n",
       "4   2021.07.23  4065798\n",
       "..         ...      ...\n",
       "93  2021.04.25  1023346\n",
       "94  2021.04.24  1023346\n",
       "95  2021.04.23  1027740\n",
       "96  2021.04.22  1023538\n",
       "97  2021.04.21  1019322\n",
       "\n",
       "[98 rows x 2 columns]"
      ]
     },
     "execution_count": 25,
     "metadata": {},
     "output_type": "execute_result"
    }
   ],
   "source": [
    "data = data.drop(['당일 1차접종자 수','1차접종 누계','1차접종률(%)','당일 2차접종자 수',\n",
    "                  '2차접종 누계','2차접종률(%)'],axis=1)\n",
    "data"
   ]
  },
  {
   "cell_type": "code",
   "execution_count": 67,
   "metadata": {},
   "outputs": [],
   "source": [
    "df04 = pd.DataFrame(data)\n",
    "df04 = df04[data['접종일'].str.contains('21.04')]\n",
    "df04 = df04.sort_index(ascending=False)\n",
    "df04.set_index('접종일',inplace=True)"
   ]
  },
  {
   "cell_type": "code",
   "execution_count": 68,
   "metadata": {},
   "outputs": [],
   "source": [
    "df05 = pd.DataFrame(data)\n",
    "df05 = df05[data['접종일'].str.contains('21.05')]\n",
    "df05 = df05.sort_index(ascending=False)\n",
    "df05.set_index('접종일',inplace=True)"
   ]
  },
  {
   "cell_type": "code",
   "execution_count": 69,
   "metadata": {},
   "outputs": [],
   "source": [
    "df06 = pd.DataFrame(data)\n",
    "df06 = df06[data['접종일'].str.contains('21.06')]\n",
    "df06 = df06.sort_index(ascending=False)\n",
    "df06.set_index('접종일',inplace=True)"
   ]
  },
  {
   "cell_type": "code",
   "execution_count": 71,
   "metadata": {},
   "outputs": [],
   "source": [
    "df07 = pd.DataFrame(data)\n",
    "df07 = df07[data['접종일'].str.contains('21.07')]\n",
    "df07 = df07.sort_index(ascending=False)\n",
    "df07.set_index('접종일',inplace=True)"
   ]
  },
  {
   "cell_type": "code",
   "execution_count": 79,
   "metadata": {},
   "outputs": [
    {
     "data": {
      "image/png": "[encoded data removed]",
      "text/plain": [
       "<Figure size 504x504 with 1 Axes>"
      ]
     },
     "metadata": {
      "needs_background": "light"
     },
     "output_type": "display_data"
    }
   ],
   "source": [
    "plt.figure(figsize=(7,7))\n",
    "plt.plot(df04,color='red')\n",
    "plt.show()"
   ]
  },
  {
   "cell_type": "code",
   "execution_count": 80,
   "metadata": {},
   "outputs": [
    {
     "data": {
      "image/png": "[encoded data removed]",
      "text/plain": [
       "<Figure size 504x504 with 1 Axes>"
      ]
     },
     "metadata": {
      "needs_background": "light"
     },
     "output_type": "display_data"
    }
   ],
   "source": [
    "plt.figure(figsize=(7,7))\n",
    "plt.plot(df05,color='red')\n",
    "plt.show()"
   ]
  },
  {
   "cell_type": "code",
   "execution_count": 81,
   "metadata": {},
   "outputs": [
    {
     "data": {
      "image/png": "[encoded data removed]",
      "text/plain": [
       "<Figure size 504x504 with 1 Axes>"
      ]
     },
     "metadata": {
      "needs_background": "light"
     },
     "output_type": "display_data"
    }
   ],
   "source": [
    "plt.figure(figsize=(7,7))\n",
    "plt.plot(df06,color='red')\n",
    "plt.show()"
   ]
  },
  {
   "cell_type": "code",
   "execution_count": 82,
   "metadata": {},
   "outputs": [
    {
     "data": {
      "image/png": "[encoded data removed]",
      "text/plain": [
       "<Figure size 504x504 with 1 Axes>"
      ]
     },
     "metadata": {
      "needs_background": "light"
     },
     "output_type": "display_data"
    }
   ],
   "source": [
    "plt.figure(figsize=(7,7))\n",
    "plt.plot(df07,color='red')\n",
    "plt.show()"
   ]
  },
  {
   "cell_type": "code",
   "execution_count": 87,
   "metadata": {},
   "outputs": [
    {
     "data": {
      "text/html": [
       "<div>\n",
       "<style scoped>\n",
       "    .dataframe tbody tr th:only-of-type {\n",
       "        vertical-align: middle;\n",
       "    }\n",
       "\n",
       "    .dataframe tbody tr th {\n",
       "        vertical-align: top;\n",
       "    }\n",
       "\n",
       "    .dataframe thead th {\n",
       "        text-align: right;\n",
       "    }\n",
       "</style>\n",
       "<table border=\"1\" class=\"dataframe\">\n",
       "  <thead>\n",
       "    <tr style=\"text-align: right;\">\n",
       "      <th></th>\n",
       "      <th>접종일</th>\n",
       "      <th>접종대상자</th>\n",
       "    </tr>\n",
       "  </thead>\n",
       "  <tbody>\n",
       "    <tr>\n",
       "      <th>57</th>\n",
       "      <td>2021.05.31</td>\n",
       "      <td>2215425</td>\n",
       "    </tr>\n",
       "  </tbody>\n",
       "</table>\n",
       "</div>"
      ],
      "text/plain": [
       "           접종일    접종대상자\n",
       "57  2021.05.31  2215425"
      ]
     },
     "execution_count": 87,
     "metadata": {},
     "output_type": "execute_result"
    }
   ],
   "source": [
    "df31 = pd.DataFrame(data)\n",
    "df31=df31[data['접종일'].str.contains('31')]\n",
    "df31"
   ]
  },
  {
   "cell_type": "code",
   "execution_count": 86,
   "metadata": {},
   "outputs": [
    {
     "data": {
      "text/html": [
       "<div>\n",
       "<style scoped>\n",
       "    .dataframe tbody tr th:only-of-type {\n",
       "        vertical-align: middle;\n",
       "    }\n",
       "\n",
       "    .dataframe tbody tr th {\n",
       "        vertical-align: top;\n",
       "    }\n",
       "\n",
       "    .dataframe thead th {\n",
       "        text-align: right;\n",
       "    }\n",
       "</style>\n",
       "<table border=\"1\" class=\"dataframe\">\n",
       "  <thead>\n",
       "    <tr style=\"text-align: right;\">\n",
       "      <th></th>\n",
       "      <th>접종일</th>\n",
       "      <th>접종대상자</th>\n",
       "    </tr>\n",
       "  </thead>\n",
       "  <tbody>\n",
       "    <tr>\n",
       "      <th>27</th>\n",
       "      <td>2021.06.30</td>\n",
       "      <td>3475794</td>\n",
       "    </tr>\n",
       "    <tr>\n",
       "      <th>88</th>\n",
       "      <td>2021.04.30</td>\n",
       "      <td>1096899</td>\n",
       "    </tr>\n",
       "  </tbody>\n",
       "</table>\n",
       "</div>"
      ],
      "text/plain": [
       "           접종일    접종대상자\n",
       "27  2021.06.30  3475794\n",
       "88  2021.04.30  1096899"
      ]
     },
     "execution_count": 86,
     "metadata": {},
     "output_type": "execute_result"
    }
   ],
   "source": [
    "df30=pd.DataFrame(data)\n",
    "df30=df30[data['접종일'].str.contains('30')]\n",
    "df30=df30.drop(index=[58],axis=0)\n",
    "df30"
   ]
  },
  {
   "cell_type": "code",
   "execution_count": 88,
   "metadata": {},
   "outputs": [
    {
     "data": {
      "text/html": [
       "<div>\n",
       "<style scoped>\n",
       "    .dataframe tbody tr th:only-of-type {\n",
       "        vertical-align: middle;\n",
       "    }\n",
       "\n",
       "    .dataframe tbody tr th {\n",
       "        vertical-align: top;\n",
       "    }\n",
       "\n",
       "    .dataframe thead th {\n",
       "        text-align: right;\n",
       "    }\n",
       "</style>\n",
       "<table border=\"1\" class=\"dataframe\">\n",
       "  <thead>\n",
       "    <tr style=\"text-align: right;\">\n",
       "      <th></th>\n",
       "      <th>접종일</th>\n",
       "      <th>접종대상자</th>\n",
       "    </tr>\n",
       "  </thead>\n",
       "  <tbody>\n",
       "    <tr>\n",
       "      <th>0</th>\n",
       "      <td>2021.07.27</td>\n",
       "      <td>4150036</td>\n",
       "    </tr>\n",
       "  </tbody>\n",
       "</table>\n",
       "</div>"
      ],
      "text/plain": [
       "          접종일    접종대상자\n",
       "0  2021.07.27  4150036"
      ]
     },
     "execution_count": 88,
     "metadata": {},
     "output_type": "execute_result"
    }
   ],
   "source": [
    "ex=pd.DataFrame(data)\n",
    "ex=ex[data['접종일'].str.contains('07.27')]\n",
    "ex"
   ]
  },
  {
   "cell_type": "code",
   "execution_count": 89,
   "metadata": {},
   "outputs": [
    {
     "data": {
      "text/html": [
       "<div>\n",
       "<style scoped>\n",
       "    .dataframe tbody tr th:only-of-type {\n",
       "        vertical-align: middle;\n",
       "    }\n",
       "\n",
       "    .dataframe tbody tr th {\n",
       "        vertical-align: top;\n",
       "    }\n",
       "\n",
       "    .dataframe thead th {\n",
       "        text-align: right;\n",
       "    }\n",
       "</style>\n",
       "<table border=\"1\" class=\"dataframe\">\n",
       "  <thead>\n",
       "    <tr style=\"text-align: right;\">\n",
       "      <th></th>\n",
       "      <th>접종일</th>\n",
       "      <th>접종대상자</th>\n",
       "    </tr>\n",
       "  </thead>\n",
       "  <tbody>\n",
       "    <tr>\n",
       "      <th>0</th>\n",
       "      <td>2021.07.27</td>\n",
       "      <td>4150036</td>\n",
       "    </tr>\n",
       "    <tr>\n",
       "      <th>27</th>\n",
       "      <td>2021.06.30</td>\n",
       "      <td>3475794</td>\n",
       "    </tr>\n",
       "    <tr>\n",
       "      <th>57</th>\n",
       "      <td>2021.05.31</td>\n",
       "      <td>2215425</td>\n",
       "    </tr>\n",
       "    <tr>\n",
       "      <th>88</th>\n",
       "      <td>2021.04.30</td>\n",
       "      <td>1096899</td>\n",
       "    </tr>\n",
       "  </tbody>\n",
       "</table>\n",
       "</div>"
      ],
      "text/plain": [
       "           접종일    접종대상자\n",
       "0   2021.07.27  4150036\n",
       "27  2021.06.30  3475794\n",
       "57  2021.05.31  2215425\n",
       "88  2021.04.30  1096899"
      ]
     },
     "execution_count": 89,
     "metadata": {},
     "output_type": "execute_result"
    }
   ],
   "source": [
    "vaccine = pd.concat([df31,df30,ex])\n",
    "vaccine = vaccine.sort_index(ascending=True)\n",
    "vaccine"
   ]
  },
  {
   "cell_type": "code",
   "execution_count": 97,
   "metadata": {},
   "outputs": [
    {
     "data": {
      "text/plain": [
       "0          NaN\n",
       "27    0.193982\n",
       "57    0.568906\n",
       "88    1.019716\n",
       "Name: 접종대상자, dtype: float64"
      ]
     },
     "execution_count": 97,
     "metadata": {},
     "output_type": "execute_result"
    }
   ],
   "source": [
    "final = pd.DataFrame(vaccine)\n",
    "\n",
    "final = ((final['접종대상자'].shift(1) - final['접종대상자'])) /final['접종대상자']\n",
    "final"
   ]
  },
  {
   "cell_type": "code",
   "execution_count": 94,
   "metadata": {},
   "outputs": [
    {
     "data": {
      "text/html": [
       "<div>\n",
       "<style scoped>\n",
       "    .dataframe tbody tr th:only-of-type {\n",
       "        vertical-align: middle;\n",
       "    }\n",
       "\n",
       "    .dataframe tbody tr th {\n",
       "        vertical-align: top;\n",
       "    }\n",
       "\n",
       "    .dataframe thead th {\n",
       "        text-align: right;\n",
       "    }\n",
       "</style>\n",
       "<table border=\"1\" class=\"dataframe\">\n",
       "  <thead>\n",
       "    <tr style=\"text-align: right;\">\n",
       "      <th></th>\n",
       "      <th>증가율</th>\n",
       "    </tr>\n",
       "    <tr>\n",
       "      <th>월별</th>\n",
       "      <th></th>\n",
       "    </tr>\n",
       "  </thead>\n",
       "  <tbody>\n",
       "    <tr>\n",
       "      <th>21.05</th>\n",
       "      <td>1.019716</td>\n",
       "    </tr>\n",
       "    <tr>\n",
       "      <th>21.06</th>\n",
       "      <td>0.568906</td>\n",
       "    </tr>\n",
       "    <tr>\n",
       "      <th>21.07</th>\n",
       "      <td>0.193982</td>\n",
       "    </tr>\n",
       "  </tbody>\n",
       "</table>\n",
       "</div>"
      ],
      "text/plain": [
       "            증가율\n",
       "월별             \n",
       "21.05  1.019716\n",
       "21.06  0.568906\n",
       "21.07  0.193982"
      ]
     },
     "execution_count": 94,
     "metadata": {},
     "output_type": "execute_result"
    }
   ],
   "source": [
    "d = {'월별' : ['21.05','21.06','21.07'],\n",
    "    '증가율':[1.019716,0.568906,0.193982]}\n",
    "\n",
    "vac = pd.DataFrame(d)\n",
    "vac.set_index('월별',inplace=True)\n",
    "vac"
   ]
  },
  {
   "cell_type": "code",
   "execution_count": 93,
   "metadata": {},
   "outputs": [
    {
     "data": {
      "image/png": "[encoded data removed]",
      "text/plain": [
       "<Figure size 432x288 with 1 Axes>"
      ]
     },
     "metadata": {
      "needs_background": "light"
     },
     "output_type": "display_data"
    }
   ],
   "source": [
    "plt.plot(vac,color='red')\n",
    "plt.show()"
   ]
  }
 ],
 "metadata": {
  "kernelspec": {
   "display_name": "Python 3",
   "language": "python",
   "name": "python3"
  },
  "language_info": {
   "codemirror_mode": {
    "name": "ipython",
    "version": 3
   },
   "file_extension": ".py",
   "mimetype": "text/x-python",
   "name": "python",
   "nbconvert_exporter": "python",
   "pygments_lexer": "ipython3",
   "version": "3.8.5"
  }
 },
 "nbformat": 4,
 "nbformat_minor": 4
}
